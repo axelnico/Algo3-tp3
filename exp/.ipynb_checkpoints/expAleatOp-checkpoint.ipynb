{
 "cells": [
  {
   "cell_type": "markdown",
   "metadata": {},
   "source": [
    "# Instancias aleatorias y sus soluciones óptimas"
   ]
  },
  {
   "cell_type": "code",
   "execution_count": 8,
   "metadata": {
    "collapsed": true
   },
   "outputs": [],
   "source": [
    "# -*- coding: utf-8 -*-\n",
    "\n",
    "import pandas as pd\n",
    "import matplotlib.pyplot as plt\n",
    "import numpy as np\n",
    "\n",
    "plt.style.use('ggplot')"
   ]
  },
  {
   "cell_type": "markdown",
   "metadata": {},
   "source": [
    "## Lectura de archivos"
   ]
  },
  {
   "cell_type": "code",
   "execution_count": 9,
   "metadata": {
    "collapsed": false
   },
   "outputs": [],
   "source": [
    "solGolosa = pd.read_csv('exp-ej5-aleatOp-solGolosa.csv')\n",
    "permutaCamino = pd.read_csv('exp-ej5-aleatOp-permutaCamino.csv')\n",
    "permutaYReemplazaPokeparadas = pd.read_csv('exp-ej5-aleatOp-permutaYReemplazaPokeparadas.csv')\n",
    "GRASP = pd.read_csv('exp-ej5-aleatOp-GRASP.csv')\n",
    "op = pd.read_csv('exp-ej5-aleatOp-Op.csv')"
   ]
  },
  {
   "cell_type": "markdown",
   "metadata": {},
   "source": [
    "## Instancias vs distancia"
   ]
  },
  {
   "cell_type": "code",
   "execution_count": null,
   "metadata": {
    "collapsed": false
   },
   "outputs": [],
   "source": [
    "paraGraficarSG = solGolosa.groupby('distancia', as_index=False).mean()\n",
    "paraGraficarPC = permutaCamino.groupby('distanciaNueva', as_index=False).mean()\n",
    "paraGraficarPYRP = permutaYReemplazaPokeparadas.groupby('distanciaNueva', as_index=False).mean()\n",
    "paraGraficarGRASP = GRASP.groupby('distancia', as_index=False).mean()\n",
    "paraGraficarOp = op.groupby('distancia', as_index=False).mean()\n",
    "\n",
    "paraGraficar = pd.concat([paraGraficarSG['distancia'], paraGraficarPC['distanciaNueva'], paraGraficarPYRP['distanciaNueva'], paraGraficarGRASP['distancia'], paraGraficarOp['distancia']], axis=1, keys=['Solución golosa', 'Permuta el camino', 'Permuta y reemplaza pokeparadas', 'GRASP', 'Solución óptima'])\n",
    "\n",
    "fig, ax = plt.subplots()\n",
    "\n",
    "paraGraficar.plot.bar(ax=ax)\n",
    "\n",
    "plt.xlabel('Instancia')\n",
    "plt.ylabel('Distancia')\n",
    "ax.set_xlim([0.5, 16.5])\n",
    "plt.rcParams.update({'font.size': 8})\n",
    "\n",
    "legend = ax.legend([u'Solución golosa', 'Permuta el camino', 'Permuta y reemplaza pokeparadas', 'GRASP', u'Solución óptima'], loc = 'upper center', bbox_to_anchor = (0.5, -0.1), fancybox = True, shadow = True, ncol = 2)\n",
    "frame = legend.get_frame()\n",
    "frame.set_facecolor('white')\n",
    "frame.set_linewidth(0)\n",
    "\n",
    "#plt.show()\n",
    "plt.gcf().set_size_inches(7, 5)\n",
    "plt.savefig('expAleatOp_instancia_distancia.pdf', format='pdf', bbox_inches = 'tight', dpi = 100)"
   ]
  },
  {
   "cell_type": "markdown",
   "metadata": {},
   "source": [
    "## Tiempo vs cantidad de nodos"
   ]
  },
  {
   "cell_type": "code",
   "execution_count": null,
   "metadata": {
    "collapsed": false
   },
   "outputs": [],
   "source": [
    "solGolosa['cantNodos'] = solGolosa['cantGimnasios'] + solGolosa['cantPokeparadas']\n",
    "permutaCamino['cantNodos'] = permutaCamino['cantGimnasios'] + permutaCamino['cantPokeparadas']\n",
    "permutaYReemplazaPokeparadas['cantNodos'] = permutaYReemplazaPokeparadas['cantGimnasios'] + permutaYReemplazaPokeparadas['cantPokeparadas']\n",
    "GRASP['cantNodos'] = GRASP['cantGimnasios'] + GRASP['cantPokeparadas']\n",
    "op['cantNodos'] = op['cantGimnasios'] + op['cantPokeparadas']\n",
    "\n",
    "#permutaCamino['tiempo'] = permutaCamino['tiempo'] + solGolosa['tiempo']\n",
    "#permutaYReemplazaPokeparadas['tiempo'] = permutaYReemplazaPokeparadas['tiempo'] + solGolosa['tiempo']\n",
    "\n",
    "fig, ax = plt.subplots()\n",
    "\n",
    "ax = solGolosa.groupby('cantNodos').mean()['tiempo'].plot(color='forestgreen', linewidth = 1)\n",
    "permutaCamino.groupby('cantNodos').mean()['tiempo'].plot(color='purple', linewidth = 1, ax=ax)\n",
    "permutaYReemplazaPokeparadas.groupby('cantNodos').mean()['tiempo'].plot(color='indianred', linewidth = 1, ax=ax)\n",
    "GRASP.groupby('cantNodos').mean()['tiempo'].plot(color='m', linewidth = 1, ax=ax)\n",
    "op.groupby('cantNodos').mean()['tiempo'].plot(color='royalblue', linewidth = 1, ax=ax)\n",
    "\n",
    "plt.xlabel('n + m')\n",
    "plt.ylabel('Tiempo (ciclos)')\n",
    "#ax.set_ylim([-100000000, 1500000000])\n",
    "plt.rcParams.update({'font.size': 8})\n",
    "\n",
    "ax.set_yscale('log')\n",
    "\n",
    "\n",
    "legend = ax.legend([u'Solución golosa', 'Permuta el camino', 'Permuta y reemplaza pokeparadas', 'GRASP', u'Solución óptima'], loc = 'upper center', bbox_to_anchor = (0.5, -0.1), fancybox = True, shadow = True, ncol = 2)\n",
    "frame = legend.get_frame()\n",
    "frame.set_facecolor('white')\n",
    "frame.set_linewidth(0)\n",
    "\n",
    "#plt.show()\n",
    "plt.gcf().set_size_inches(6, 4)\n",
    "plt.savefig('expAleatOp_cantNodos_tiempo.pdf', format='pdf', bbox_inches = 'tight', dpi = 100)"
   ]
  },
  {
   "cell_type": "code",
   "execution_count": null,
   "metadata": {
    "collapsed": true
   },
   "outputs": [],
   "source": []
  }
 ],
 "metadata": {
  "kernelspec": {
   "display_name": "Python 3",
   "language": "python",
   "name": "python3"
  },
  "language_info": {
   "codemirror_mode": {
    "name": "ipython",
    "version": 3
   },
   "file_extension": ".py",
   "mimetype": "text/x-python",
   "name": "python",
   "nbconvert_exporter": "python",
   "pygments_lexer": "ipython3",
   "version": "3.4.3"
  }
 },
 "nbformat": 4,
 "nbformat_minor": 0
}
